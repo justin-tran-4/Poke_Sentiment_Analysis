{
 "cells": [
  {
   "cell_type": "markdown",
   "id": "c5ae221b",
   "metadata": {},
   "source": [
    "# Sentiment Analysis with BERT"
   ]
  },
  {
   "cell_type": "markdown",
   "id": "e76f26ac",
   "metadata": {},
   "source": [
    "## Importing libraries"
   ]
  },
  {
   "cell_type": "code",
   "execution_count": 1,
   "id": "725207db",
   "metadata": {
    "scrolled": true
   },
   "outputs": [
    {
     "name": "stdout",
     "output_type": "stream",
     "text": [
      "Requirement already satisfied: transformers in /Users/zaftyguy/anaconda3/lib/python3.11/site-packages (4.32.1)\n",
      "Requirement already satisfied: filelock in /Users/zaftyguy/anaconda3/lib/python3.11/site-packages (from transformers) (3.9.0)\n",
      "Requirement already satisfied: huggingface-hub<1.0,>=0.15.1 in /Users/zaftyguy/anaconda3/lib/python3.11/site-packages (from transformers) (0.15.1)\n",
      "Requirement already satisfied: numpy>=1.17 in /Users/zaftyguy/anaconda3/lib/python3.11/site-packages (from transformers) (1.26.4)\n",
      "Requirement already satisfied: packaging>=20.0 in /Users/zaftyguy/anaconda3/lib/python3.11/site-packages (from transformers) (23.1)\n",
      "Requirement already satisfied: pyyaml>=5.1 in /Users/zaftyguy/anaconda3/lib/python3.11/site-packages (from transformers) (6.0)\n",
      "Requirement already satisfied: regex!=2019.12.17 in /Users/zaftyguy/anaconda3/lib/python3.11/site-packages (from transformers) (2022.7.9)\n",
      "Requirement already satisfied: requests in /Users/zaftyguy/anaconda3/lib/python3.11/site-packages (from transformers) (2.31.0)\n",
      "Requirement already satisfied: tokenizers!=0.11.3,<0.14,>=0.11.1 in /Users/zaftyguy/anaconda3/lib/python3.11/site-packages (from transformers) (0.13.2)\n",
      "Requirement already satisfied: safetensors>=0.3.1 in /Users/zaftyguy/anaconda3/lib/python3.11/site-packages (from transformers) (0.3.2)\n",
      "Requirement already satisfied: tqdm>=4.27 in /Users/zaftyguy/anaconda3/lib/python3.11/site-packages (from transformers) (4.65.0)\n",
      "Requirement already satisfied: fsspec in /Users/zaftyguy/anaconda3/lib/python3.11/site-packages (from huggingface-hub<1.0,>=0.15.1->transformers) (2023.4.0)\n",
      "Requirement already satisfied: typing-extensions>=3.7.4.3 in /Users/zaftyguy/anaconda3/lib/python3.11/site-packages (from huggingface-hub<1.0,>=0.15.1->transformers) (4.12.2)\n",
      "Requirement already satisfied: charset-normalizer<4,>=2 in /Users/zaftyguy/anaconda3/lib/python3.11/site-packages (from requests->transformers) (2.0.4)\n",
      "Requirement already satisfied: idna<4,>=2.5 in /Users/zaftyguy/anaconda3/lib/python3.11/site-packages (from requests->transformers) (3.4)\n",
      "Requirement already satisfied: urllib3<3,>=1.21.1 in /Users/zaftyguy/anaconda3/lib/python3.11/site-packages (from requests->transformers) (1.26.16)\n",
      "Requirement already satisfied: certifi>=2017.4.17 in /Users/zaftyguy/anaconda3/lib/python3.11/site-packages (from requests->transformers) (2023.7.22)\n"
     ]
    }
   ],
   "source": [
    "!pip install transformers"
   ]
  },
  {
   "cell_type": "code",
   "execution_count": 2,
   "id": "517c52bf",
   "metadata": {},
   "outputs": [
    {
     "name": "stderr",
     "output_type": "stream",
     "text": [
      "/Users/zaftyguy/anaconda3/lib/python3.11/site-packages/transformers/utils/generic.py:260: FutureWarning: `torch.utils._pytree._register_pytree_node` is deprecated. Please use `torch.utils._pytree.register_pytree_node` instead.\n",
      "  torch.utils._pytree._register_pytree_node(\n"
     ]
    }
   ],
   "source": [
    "from pyspark.sql import SparkSession\n",
    "\n",
    "import torch\n",
    "import numpy as np\n",
    "import pandas as pd\n",
    "import seaborn as sns\n",
    "import matplotlib.pyplot as plt\n",
    "\n",
    "from sklearn.model_selection import train_test_split\n",
    "from sklearn.metrics import classification_report, accuracy_score\n",
    "from transformers import BertTokenizer, BertForSequenceClassification, AdamW, get_linear_schedule_with_warmup\n",
    "from torch.utils.data import TensorDataset, DataLoader, RandomSampler, SequentialSampler"
   ]
  },
  {
   "cell_type": "markdown",
   "id": "e412a895",
   "metadata": {},
   "source": [
    "## Data Sampling"
   ]
  },
  {
   "cell_type": "code",
   "execution_count": 3,
   "id": "1e5ad655",
   "metadata": {},
   "outputs": [
    {
     "name": "stderr",
     "output_type": "stream",
     "text": [
      "25/05/16 20:59:20 WARN Utils: Your hostname, Justins-MacBook-Pro-5.local resolves to a loopback address: 127.0.0.1; using 100.64.11.184 instead (on interface en0)\n",
      "25/05/16 20:59:20 WARN Utils: Set SPARK_LOCAL_IP if you need to bind to another address\n",
      "Setting default log level to \"WARN\".\n",
      "To adjust logging level use sc.setLogLevel(newLevel). For SparkR, use setLogLevel(newLevel).\n",
      "25/05/16 20:59:21 WARN NativeCodeLoader: Unable to load native-hadoop library for your platform... using builtin-java classes where applicable\n",
      "                                                                                \r"
     ]
    },
    {
     "name": "stdout",
     "output_type": "stream",
     "text": [
      "+--------------------+--------------------+-----+\n",
      "|           review_id|                text|stars|\n",
      "+--------------------+--------------------+-----+\n",
      "|KU_O5udG6zpxOg-Vc...|If you decide to ...|  3.0|\n",
      "|BiTunyQ73aT9WBnpR...|I've taken a lot ...|  5.0|\n",
      "|saUsX_uimxRlCVr67...|Family diner. Had...|  3.0|\n",
      "|AqPFMleE6RsU23_au...|Wow!  Yummy, diff...|  5.0|\n",
      "|Sx8TMOWLNuJBWer-0...|Cute interior and...|  4.0|\n",
      "|JrIxlS1TzJ-iCu79u...|I am a long term ...|  1.0|\n",
      "|6AxgBCNX_PNTOxmbR...|Loved this tour! ...|  5.0|\n",
      "|_ZeMknuYdlQcUqng_...|Amazingly amazing...|  5.0|\n",
      "|ZKvDG2sBvHVdF5oBN...|This easter inste...|  3.0|\n",
      "|pUycOfUwM8vqX7KjR...|Had a party of 6 ...|  3.0|\n",
      "|rGQRf8UafX7OTlMNN...|My experience wit...|  5.0|\n",
      "|l3Wk_mvAog6XANIuG...|Locals recommende...|  4.0|\n",
      "|XW_LfMv0fV21l9c6x...|Love going here f...|  4.0|\n",
      "|8JFGBuHMoiNDyfcxu...|Good food--loved ...|  4.0|\n",
      "|UBp0zWyH60Hmw6Fsa...|The bun makes the...|  4.0|\n",
      "|OAhBYw8IQ6wlfw1ow...|Great place for b...|  5.0|\n",
      "|oyaMhzBSwfGgemSGu...|Tremendous servic...|  5.0|\n",
      "|LnGZB0fjfgeVDVz5I...|The hubby and I h...|  4.0|\n",
      "|u2vzZaOqJ2feRshaa...|I go to blow bar ...|  5.0|\n",
      "|Xs8Z8lmKkosqW5mw_...|My absolute favor...|  5.0|\n",
      "+--------------------+--------------------+-----+\n",
      "only showing top 20 rows\n",
      "\n"
     ]
    },
    {
     "name": "stderr",
     "output_type": "stream",
     "text": [
      "                                                                                \r"
     ]
    }
   ],
   "source": [
    "spark = SparkSession.builder.appName(\"Data Sampling for BERT model\").getOrCreate()\n",
    "reviewsDF = spark.read.json(\"data/yelp_academic_dataset_review.json\")\n",
    "reviewsDF.createOrReplaceTempView(\"review\")\n",
    "\n",
    "filtered_df = spark.sql(\"\"\"\n",
    "                        SELECT review_id, text, stars\n",
    "                        FROM review\n",
    "                        \"\"\")\n",
    "\n",
    "filtered_df.show()\n",
    "\n",
    "#randomly selecting data\n",
    "sample_size = 10000\n",
    "sampled_df = filtered_df.sample(withReplacement=False, fraction=sample_size/filtered_df.count(), seed=3)\n",
    "\n",
    "pandasDF = sampled_df.toPandas()\n",
    "pandasDF.head()\n",
    "\n",
    "spark.stop()"
   ]
  },
  {
   "cell_type": "markdown",
   "id": "fed51ab1",
   "metadata": {},
   "source": [
    "## BERT Tokenization"
   ]
  },
  {
   "cell_type": "code",
   "execution_count": 9,
   "id": "dba97e63",
   "metadata": {},
   "outputs": [],
   "source": [
    "MAX_LENGTH = 128\n",
    "BATCH_SIZE = 16\n",
    "EPOCHS = 6\n",
    "LEARNING_RATE = 1e-3"
   ]
  },
  {
   "cell_type": "code",
   "execution_count": 5,
   "id": "1bad0ee5",
   "metadata": {},
   "outputs": [
    {
     "name": "stderr",
     "output_type": "stream",
     "text": [
      "/var/folders/5m/n3lmdh1d5bl0t6d_1p3n_2wh0000gn/T/ipykernel_90178/935480887.py:8: UserWarning: \n",
      "\n",
      "`distplot` is a deprecated function and will be removed in seaborn v0.14.0.\n",
      "\n",
      "Please adapt your code to use either `displot` (a figure-level function with\n",
      "similar flexibility) or `histplot` (an axes-level function for histograms).\n",
      "\n",
      "For a guide to updating your code to use the new functions, please see\n",
      "https://gist.github.com/mwaskom/de44147ed2974457ad6372750bbe5751\n",
      "\n",
      "  sns.distplot(token_lens)\n"
     ]
    },
    {
     "data": {
      "text/plain": [
       "<Axes: ylabel='Density'>"
      ]
     },
     "execution_count": 5,
     "metadata": {},
     "output_type": "execute_result"
    },
    {
     "data": {
      "image/png": "[encoded data removed]",
      "text/plain": [
       "<Figure size 640x480 with 1 Axes>"
      ]
     },
     "metadata": {},
     "output_type": "display_data"
    }
   ],
   "source": [
    "tokenizer = BertTokenizer.from_pretrained('bert-base-uncased')\n",
    "token_lens = []\n",
    "\n",
    "for text in pandasDF['text'].sample(n=1000, random_state=3):\n",
    "    tokens = tokenizer.encode(text, max_length=512, truncation=True)\n",
    "    token_lens.append(len(tokens))\n",
    "    \n",
    "sns.distplot(token_lens)"
   ]
  },
  {
   "cell_type": "markdown",
   "id": "45d8677c",
   "metadata": {},
   "source": [
    "Based on the distplot, we will pick a max_length of around 400 tokens."
   ]
  },
  {
   "cell_type": "code",
   "execution_count": 6,
   "id": "94bbc76e",
   "metadata": {},
   "outputs": [],
   "source": [
    "texts = pandasDF['text'].tolist()\n",
    "labels = pandasDF['stars'].tolist()\n",
    "\n",
    "def tokenize_batch(texts, max_length=MAX_LENGTH):\n",
    "    return tokenizer(\n",
    "        texts,\n",
    "        padding='max_length',\n",
    "        truncation=True,\n",
    "        max_length=max_length,\n",
    "        return_tensors='pt'\n",
    "    )\n",
    "\n",
    "X_train, X_temp, y_train, y_temp = train_test_split(\n",
    "    texts, labels, test_size=0.3, random_state=3, stratify=labels\n",
    ")\n",
    "X_val, X_test, y_val, y_test = train_test_split(\n",
    "    X_temp, y_temp, test_size=0.5, random_state=3, stratify=y_temp\n",
    ")\n",
    "\n",
    "train_encodings = tokenize_batch(X_train)\n",
    "val_encodings = tokenize_batch(X_val)\n",
    "test_encodings = tokenize_batch(X_test)\n",
    "\n",
    "y_train = torch.tensor([label - 1 for label in y_train], dtype=torch.long)\n",
    "y_val = torch.tensor([label - 1 for label in y_val], dtype=torch.long)\n",
    "y_test = torch.tensor([label - 1 for label in y_test], dtype=torch.long)\n",
    "\n",
    "train_dataset = TensorDataset(\n",
    "    train_encodings['input_ids'],\n",
    "    train_encodings['attention_mask'],\n",
    "    y_train\n",
    ")\n",
    "\n",
    "val_dataset = TensorDataset(\n",
    "    val_encodings['input_ids'],\n",
    "    val_encodings['attention_mask'],\n",
    "    y_val\n",
    ")\n",
    "\n",
    "test_dataset = TensorDataset(\n",
    "    test_encodings['input_ids'],\n",
    "    test_encodings['attention_mask'],\n",
    "    y_test\n",
    ")"
   ]
  },
  {
   "cell_type": "markdown",
   "id": "d0175609",
   "metadata": {},
   "source": [
    "## Creating Data Loader"
   ]
  },
  {
   "cell_type": "code",
   "execution_count": 7,
   "id": "755873b0",
   "metadata": {},
   "outputs": [],
   "source": [
    "train_dataloader = DataLoader(\n",
    "    train_dataset,\n",
    "    sampler=RandomSampler(train_dataset),\n",
    "    batch_size=BATCH_SIZE\n",
    ")\n",
    "\n",
    "val_dataloader = DataLoader(\n",
    "    val_dataset,\n",
    "    sampler=SequentialSampler(val_dataset),\n",
    "    batch_size=BATCH_SIZE\n",
    ")\n",
    "\n",
    "test_dataloader = DataLoader(\n",
    "    test_dataset,\n",
    "    sampler=SequentialSampler(test_dataset),\n",
    "    batch_size=BATCH_SIZE\n",
    ")"
   ]
  },
  {
   "cell_type": "markdown",
   "id": "c2f4ec36",
   "metadata": {},
   "source": [
    "## Training Model"
   ]
  },
  {
   "cell_type": "code",
   "execution_count": null,
   "id": "abadb017",
   "metadata": {
    "scrolled": true
   },
   "outputs": [
    {
     "name": "stderr",
     "output_type": "stream",
     "text": [
      "Some weights of BertForSequenceClassification were not initialized from the model checkpoint at bert-base-uncased and are newly initialized: ['classifier.weight', 'classifier.bias']\n",
      "You should probably TRAIN this model on a down-stream task to be able to use it for predictions and inference.\n"
     ]
    },
    {
     "name": "stdout",
     "output_type": "stream",
     "text": [
      "Batch 0/440\n",
      "Batch 5/440\n",
      "Batch 10/440\n",
      "Batch 15/440\n",
      "Batch 20/440\n",
      "Batch 25/440\n",
      "Batch 30/440\n",
      "Batch 35/440\n",
      "Batch 40/440\n",
      "Batch 45/440\n",
      "Batch 50/440\n",
      "Batch 55/440\n",
      "Batch 60/440\n",
      "Batch 65/440\n",
      "Batch 70/440\n",
      "Batch 75/440\n",
      "Batch 80/440\n",
      "Batch 85/440\n",
      "Batch 90/440\n",
      "Batch 95/440\n",
      "Batch 100/440\n",
      "Batch 105/440\n",
      "Batch 110/440\n",
      "Batch 115/440\n",
      "Batch 120/440\n",
      "Batch 125/440\n",
      "Batch 130/440\n",
      "Batch 135/440\n",
      "Batch 140/440\n",
      "Batch 145/440\n",
      "Batch 150/440\n",
      "Batch 155/440\n",
      "Batch 160/440\n",
      "Batch 165/440\n",
      "Batch 170/440\n",
      "Batch 175/440\n",
      "Batch 180/440\n",
      "Batch 185/440\n",
      "Batch 190/440\n",
      "Batch 195/440\n",
      "Batch 200/440\n",
      "Batch 205/440\n",
      "Batch 210/440\n",
      "Batch 215/440\n",
      "Batch 220/440\n",
      "Batch 225/440\n",
      "Batch 230/440\n",
      "Batch 235/440\n",
      "Batch 240/440\n",
      "Batch 245/440\n",
      "Batch 250/440\n",
      "Batch 255/440\n",
      "Batch 260/440\n",
      "Batch 265/440\n",
      "Batch 270/440\n",
      "Batch 275/440\n",
      "Batch 280/440\n",
      "Batch 285/440\n",
      "Batch 290/440\n",
      "Batch 295/440\n",
      "Batch 300/440\n",
      "Batch 305/440\n",
      "Batch 310/440\n",
      "Batch 315/440\n",
      "Batch 320/440\n",
      "Batch 325/440\n",
      "Batch 330/440\n",
      "Batch 335/440\n",
      "Batch 340/440\n",
      "Batch 345/440\n",
      "Batch 350/440\n",
      "Batch 355/440\n",
      "Batch 360/440\n",
      "Batch 365/440\n",
      "Batch 370/440\n",
      "Batch 375/440\n",
      "Batch 380/440\n",
      "Batch 385/440\n",
      "Batch 390/440\n",
      "Batch 395/440\n",
      "Batch 400/440\n",
      "Batch 405/440\n",
      "Batch 410/440\n",
      "Batch 415/440\n",
      "Batch 420/440\n",
      "Batch 425/440\n",
      "Batch 430/440\n"
     ]
    }
   ],
   "source": [
    "model = BertForSequenceClassification.from_pretrained(\n",
    "    'bert-base-uncased',\n",
    "    num_labels=5,\n",
    "    output_attentions=False,\n",
    "    output_hidden_states=False\n",
    ")\n",
    "\n",
    "# Updates model's weights\n",
    "optimizer = AdamW(model.parameters(), lr= LEARNING_RATE, eps= 1e-8)\n",
    "trainingSteps = len(train_dataloader) * EPOCHS\n",
    "\n",
    "# Makes sure that learning rate doesn't overshoot by decreasing learning rate\n",
    "scheduler = get_linear_schedule_with_warmup(optimizer, num_warmup_steps= 0,\n",
    "                                           num_training_steps= trainingSteps)\n",
    "\n",
    "if torch.cuda.is_available():\n",
    "    device = torch.device('cuda')\n",
    "else:\n",
    "    device = torch.device('cpu')\n",
    "    \n",
    "model.to(device)\n",
    "best_val_accuracy = 0\n",
    "\n",
    "for i in range(EPOCHS):\n",
    "    model.train()\n",
    "    total_loss = 0\n",
    "\n",
    "    for batch_idx, batch in enumerate(train_dataloader):\n",
    "        \n",
    "        if batch_idx % 5 == 0:\n",
    "            print(f\"Batch {batch_idx}/{len(train_dataloader)}\")\n",
    "            \n",
    "        inputId = batch[0].to(device)\n",
    "        attenMask = batch[1].to(device)\n",
    "        batchLabel = batch[2].to(device)\n",
    "\n",
    "        model.zero_grad()\n",
    "\n",
    "        outputs = model(input_ids= inputId, attention_mask= attenMask, labels= batchLabel)\n",
    "\n",
    "        loss = outputs.loss\n",
    "        total_loss += loss.item()\n",
    "        \n",
    "        loss.backward()\n",
    "        torch.nn.utils.clip_grad_norm_(model.parameters(), 1.0)\n",
    "\n",
    "        optimizer.step()\n",
    "        scheduler.step()\n",
    "        \n",
    "    avg_train_loss = total_loss / len(train_dataloader)\n",
    "    print(avg_train_loss)\n",
    "    \n",
    "    model.eval()\n",
    "    total_val_loss = 0\n",
    "    val_preds = []\n",
    "    val_true = []\n",
    "    \n",
    "    with torch.no_grad():\n",
    "        for batch_idx, batch in enumerate(val_dataloader):\n",
    "            if batch_idx % 5 == 0:\n",
    "                print(f\"Batch {batch_idx}/{len(val_dataloader)}\")\n",
    "            \n",
    "            input_ids = batch[0].to(device)\n",
    "            attention_mask = batch[1].to(device)\n",
    "            labels = batch[2].to(device)\n",
    "            \n",
    "            outputs = model(\n",
    "                input_ids=input_ids,\n",
    "                attention_mask=attention_mask,\n",
    "                labels=labels\n",
    "            )\n",
    "            \n",
    "            loss = outputs.loss\n",
    "            total_val_loss += loss.item()\n",
    "            \n",
    "            logits = outputs.logits\n",
    "            preds = torch.argmax(logits, dim=1).cpu().numpy()\n",
    "            val_preds.extend(preds)\n",
    "            val_true.extend(labels.cpu().numpy())\n",
    "    \n",
    "    avg_val_loss = total_val_loss / len(val_dataloader)\n",
    "    val_accuracy = accuracy_score(val_true, val_preds)\n",
    "    print(f\"  Validation loss: {avg_val_loss:.4f}\")\n",
    "    print(f\"  Validation accuracy: {val_accuracy:.4f}\")\n",
    "    \n",
    "    if val_accuracy > best_val_accuracy:\n",
    "        best_val_accuracy = val_accuracy\n",
    "        torch.save(model.state_dict(), \"best_bert_sentiment_model.pt\")\n",
    "        print(\"Model saved!\")\n"
   ]
  },
  {
   "cell_type": "code",
   "execution_count": null,
   "id": "d81b35b1",
   "metadata": {},
   "outputs": [],
   "source": [
    "model.load_state_dict(torch.load(\"best_bert_sentiment_model.pt\"))\n",
    "\n",
    "model.eval()\n",
    "test_preds = []\n",
    "test_true = []\n",
    "\n",
    "with torch.no_grad():\n",
    "    for batch_idx, batch in enumerate(test_dataloader):\n",
    "        if batch_idx % 5 == 0:\n",
    "                print(f\"Batch {batch_idx}/{len(test_dataloader)}\")\n",
    "                \n",
    "        input_ids = batch[0].to(device)\n",
    "        attention_mask = batch[1].to(device)\n",
    "        labels = batch[2].to(device)\n",
    "        \n",
    "        outputs = model(\n",
    "            input_ids=input_ids,\n",
    "            attention_mask=attention_mask\n",
    "        )\n",
    "        \n",
    "        logits = outputs.logits\n",
    "        preds = torch.argmax(logits, dim=1).cpu().numpy()\n",
    "        test_preds.extend(preds)\n",
    "        test_true.extend(labels.cpu().numpy())\n",
    "\n",
    "test_accuracy = accuracy_score(test_true, test_preds)\n",
    "print(f\"Test accuracy: {test_accuracy:.4f}\")"
   ]
  },
  {
   "cell_type": "code",
   "execution_count": null,
   "id": "2195b4e8",
   "metadata": {},
   "outputs": [],
   "source": [
    "def get_predictions(texts):\n",
    "    encodings = tokenize_batch(texts)\n",
    "    input_ids = encodings['input_ids'].to(device)\n",
    "    attention_mask = encodings['attention_mask'].to(device)\n",
    "    \n",
    "    with torch.no_grad():\n",
    "        outputs = model(\n",
    "            input_ids=input_ids,\n",
    "            attention_mask=attention_mask\n",
    "        )\n",
    "        \n",
    "    logits = outputs.logits\n",
    "    return torch.argmax(logits, dim=1).cpu().numpy() + 1\n",
    "\n",
    "poke_reviews = pd.read_json(\"data/filtered_reviews_poke.json\", lines=True)\n",
    "\n",
    "\n",
    "batch_size = 32\n",
    "predictions = []\n",
    "total_batches = (len(poke_reviews) + batch_size - 1) // batch_size\n",
    "\n",
    "for i in range(0, len(poke_reviews), batch_size):\n",
    "    if i % (batch_size * 10) == 0:\n",
    "        print(f\"Processing batch {i//batch_size + 1}/{total_batches} ({i+1}-{min(i+batch_size, len(pandasDF))} of {len(pandasDF)} reviews)\")\n",
    "    \n",
    "    batch_texts = poke_reviews['text'].iloc[i:i+batch_size].tolist()\n",
    "    batch_preds = get_predictions(batch_texts)\n",
    "    predictions.extend(batch_preds)\n",
    "\n",
    "\n",
    "pandasDF['predicted_sentiment'] = predictions\n",
    "print(pandasDF)\n",
    "\n",
    "pandasDF.to_csv('sentiment_analysis_full_results.csv', index=False)"
   ]
  },
  {
   "cell_type": "code",
   "execution_count": null,
   "id": "e8070fa2",
   "metadata": {},
   "outputs": [],
   "source": []
  }
 ],
 "metadata": {
  "kernelspec": {
   "display_name": "Python 3 (ipykernel)",
   "language": "python",
   "name": "python3"
  },
  "language_info": {
   "codemirror_mode": {
    "name": "ipython",
    "version": 3
   },
   "file_extension": ".py",
   "mimetype": "text/x-python",
   "name": "python",
   "nbconvert_exporter": "python",
   "pygments_lexer": "ipython3",
   "version": "3.11.5"
  }
 },
 "nbformat": 4,
 "nbformat_minor": 5
}
